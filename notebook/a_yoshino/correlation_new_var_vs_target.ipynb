{
 "cells": [
  {
   "cell_type": "markdown",
   "metadata": {},
   "source": [
    "targetと相関を求めるテンプレート"
   ]
  },
  {
   "cell_type": "code",
   "execution_count": null,
   "metadata": {},
   "outputs": [],
   "source": [
    "import pandas as pd\n",
    "import numpy as np\n",
    "import seaborn as sns"
   ]
  },
  {
   "cell_type": "code",
   "execution_count": null,
   "metadata": {},
   "outputs": [],
   "source": [
    "TRAIN_DATA_PATH = '../input/train.csv'\n",
    "TEST_DATA_PATH = '../input/test.csv'\n",
    "\n",
    "origin_train = pd.read_csv(TRAIN_DATA_PATH)\n",
    "origin_test = pd.read_csv(TEST_DATA_PATH)"
   ]
  },
  {
   "cell_type": "code",
   "execution_count": null,
   "metadata": {},
   "outputs": [],
   "source": [
    "\"\"\"\n",
    "trainとtestの新しい特徴量を作る関数\n",
    "feature_num = var_{feature_num}の特徴量を作る\n",
    "\"\"\"\n",
    "def new_feature(df_train, df_test, feature_num):   \n",
    "    new_train = pd.DataFrame([])\n",
    "    new_test = pd.DataFrame([])\n",
    "    for i in range(feature_num+1, 200):\n",
    "        new_train[f'var_{feature_num}_{i}'] = df_train[f'var_{feature_num}'] - df_train[f'var_{i}']\n",
    "        new_test[f'var_{feature_num}_{i}'] = df_test[f'var_{feature_num}'] - df_test[f'var_{i}']\n",
    "    return new_train, new_test"
   ]
  },
  {
   "cell_type": "code",
   "execution_count": null,
   "metadata": {},
   "outputs": [],
   "source": [
    "best_feature = pd.DataFrame([])\n",
    "var_num=1\n",
    "for var_num in range(0, 199):\n",
    "\n",
    "    df_data = pd.concat([origin_train[f\"var_{var_num}\"], origin_train[\"target\"]], axis=1)\n",
    "\n",
    "    #新しい特徴量とtargetの相関をみる\n",
    "    new_train, new_test = new_feature(origin_train, origin_test, var_num)\n",
    "    b_corr = pd.concat([origin_train[\"target\"], new_train], axis=1).corr(method=\"pearson\")[\"target\"]\n",
    "\n",
    "    #ソートし、上位を取得\n",
    "    b_corr = b_corr.sort_values(ascending=False)\n",
    "\n",
    "    #csvファイルに落とす\n",
    "    best_feature = pd.concat([best_feature, b_corr], axis=0)\n",
    "\n",
    "print(best_feature)"
   ]
  },
  {
   "cell_type": "code",
   "execution_count": null,
   "metadata": {},
   "outputs": [],
   "source": [
    "best_feature = best_feature.drop(\"target\", axis=0)\n",
    "best_feature.to_csv(f\"../output/best_corr_var.csv\")"
   ]
  },
  {
   "cell_type": "code",
   "execution_count": null,
   "metadata": {},
   "outputs": [],
   "source": []
  }
 ],
 "metadata": {
  "kernelspec": {
   "display_name": "Python 3",
   "language": "python",
   "name": "python3"
  },
  "language_info": {
   "codemirror_mode": {
    "name": "ipython",
    "version": 3
   },
   "file_extension": ".py",
   "mimetype": "text/x-python",
   "name": "python",
   "nbconvert_exporter": "python",
   "pygments_lexer": "ipython3",
   "version": "3.7.1"
  }
 },
 "nbformat": 4,
 "nbformat_minor": 2
}
