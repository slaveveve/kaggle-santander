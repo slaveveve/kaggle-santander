{
 "cells": [
  {
   "cell_type": "markdown",
   "metadata": {},
   "source": [
    "targetと相関を求めるテンプレート"
   ]
  },
  {
   "cell_type": "code",
   "execution_count": 1,
   "metadata": {},
   "outputs": [],
   "source": [
    "import pandas as pd\n",
    "import numpy as np\n",
    "import seaborn as sns"
   ]
  },
  {
   "cell_type": "code",
   "execution_count": 2,
   "metadata": {},
   "outputs": [],
   "source": [
    "TRAIN_DATA_PATH = '../input/train.csv'\n",
    "TEST_DATA_PATH = '../input/test.csv'\n",
    "\n",
    "origin_train = pd.read_csv(TRAIN_DATA_PATH)\n",
    "origin_test = pd.read_csv(TEST_DATA_PATH)"
   ]
  },
  {
   "cell_type": "code",
   "execution_count": 3,
   "metadata": {},
   "outputs": [],
   "source": [
    "\"\"\"\n",
    "trainとtestの新しい特徴量を作る関数\n",
    "feature_num = var_{feature_num}の特徴量を作る\n",
    "\"\"\"\n",
    "def new_feature(df_train, df_test, feature_num):   \n",
    "    new_train = pd.DataFrame([])\n",
    "    new_test = pd.DataFrame([])\n",
    "    for i in range(0, 200):\n",
    "        if(i != feature_num):\n",
    "            new_train[f'var_{feature_num}_{i}'] = df_train[f'var_{feature_num}'] / df_train[f'var_{i}']\n",
    "            new_test[f'var_{feature_num}_{i}'] = df_test[f'var_{feature_num}'] / df_test[f'var_{i}']\n",
    "    return new_train, new_test"
   ]
  },
  {
   "cell_type": "code",
   "execution_count": 4,
   "metadata": {},
   "outputs": [
    {
     "name": "stdout",
     "output_type": "stream",
     "text": [
      "                    0\n",
      "target       1.000000\n",
      "var_0_81     0.094590\n",
      "var_0_146    0.091310\n",
      "var_0_165    0.084406\n",
      "var_0_109    0.081464\n",
      "var_0_198    0.079290\n",
      "var_0_33     0.075891\n",
      "var_0_166    0.074646\n",
      "var_0_9      0.069538\n",
      "var_0_177    0.068442\n",
      "var_0_56     0.067011\n",
      "var_0_121    0.066831\n",
      "var_0_188    0.066591\n",
      "var_0_169    0.062778\n",
      "var_0_197    0.062603\n",
      "var_0_148    0.062063\n",
      "var_0_34     0.060841\n",
      "var_0_150    0.059627\n",
      "var_0_132    0.059330\n",
      "var_0_23     0.058994\n",
      "var_0_93     0.058475\n",
      "var_0_104    0.058442\n",
      "var_0_28     0.058433\n",
      "var_0_85     0.057867\n",
      "var_0_194    0.057758\n",
      "var_0_156    0.056238\n",
      "var_0_75     0.056137\n",
      "var_0_12     0.055872\n",
      "var_0_43     0.054977\n",
      "var_0_31     0.054878\n",
      "...               ...\n",
      "var_198_175 -0.043154\n",
      "var_198_103 -0.043695\n",
      "var_198_162 -0.044767\n",
      "var_198_4   -0.045988\n",
      "var_198_50  -0.046985\n",
      "var_198_42  -0.047782\n",
      "var_198_12  -0.047981\n",
      "var_198_43  -0.048457\n",
      "var_198_66  -0.048635\n",
      "var_198_181 -0.049239\n",
      "var_198_105 -0.049308\n",
      "var_198_106 -0.049475\n",
      "var_198_108 -0.050107\n",
      "var_198_79  -0.050316\n",
      "var_198_126 -0.050775\n",
      "var_198_161 -0.052729\n",
      "var_198_0   -0.052795\n",
      "var_198_68  -0.052903\n",
      "var_198_111 -0.052925\n",
      "var_198_25  -0.054164\n",
      "var_198_15  -0.054884\n",
      "var_198_144 -0.055527\n",
      "var_198_125 -0.056165\n",
      "var_198_91  -0.056996\n",
      "var_198_130 -0.058807\n",
      "var_198_94  -0.059062\n",
      "var_198_2   -0.063361\n",
      "var_198_133 -0.064744\n",
      "var_198_53  -0.073597\n",
      "var_198_6   -0.076438\n",
      "\n",
      "[39800 rows x 1 columns]\n"
     ]
    }
   ],
   "source": [
    "best_feature = pd.DataFrame([])\n",
    "var_num=1\n",
    "for var_num in range(0, 199):\n",
    "\n",
    "    df_data = pd.concat([origin_train[f\"var_{var_num}\"], origin_train[\"target\"]], axis=1)\n",
    "\n",
    "    #新しい特徴量とtargetの相関をみる\n",
    "    new_train, new_test = new_feature(origin_train, origin_test, var_num)\n",
    "    b_corr = pd.concat([origin_train[\"target\"], new_train], axis=1).corr(method=\"pearson\")[\"target\"]\n",
    "\n",
    "    #ソートし、上位を取得\n",
    "    b_corr = b_corr.sort_values(ascending=False)\n",
    "\n",
    "    #csvファイルに落とす\n",
    "    best_feature = pd.concat([best_feature, b_corr], axis=0)\n",
    "\n",
    "print(best_feature)"
   ]
  },
  {
   "cell_type": "code",
   "execution_count": 5,
   "metadata": {},
   "outputs": [],
   "source": [
    "best_feature = best_feature.drop(\"target\", axis=0)\n",
    "best_feature.to_csv(f\"../output/best_corr_var.csv\")"
   ]
  },
  {
   "cell_type": "code",
   "execution_count": null,
   "metadata": {},
   "outputs": [],
   "source": []
  }
 ],
 "metadata": {
  "kernelspec": {
   "display_name": "Python 3",
   "language": "python",
   "name": "python3"
  },
  "language_info": {
   "codemirror_mode": {
    "name": "ipython",
    "version": 3
   },
   "file_extension": ".py",
   "mimetype": "text/x-python",
   "name": "python",
   "nbconvert_exporter": "python",
   "pygments_lexer": "ipython3",
   "version": "3.7.1"
  }
 },
 "nbformat": 4,
 "nbformat_minor": 2
}
