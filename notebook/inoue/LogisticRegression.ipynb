{
 "cells": [
  {
   "cell_type": "code",
   "execution_count": 2,
   "metadata": {},
   "outputs": [],
   "source": [
    "import pandas as pd\n",
    "import numpy as np\n",
    "\n",
    "from sklearn.linear_model import LogisticRegression\n",
    "from sklearn.model_selection import StratifiedKFold\n",
    "from sklearn.metrics import log_loss, roc_auc_score\n",
    "import os\n",
    "os.environ['KMP_DUPLICATE_LIB_OK']='True'"
   ]
  },
  {
   "cell_type": "code",
   "execution_count": 17,
   "metadata": {},
   "outputs": [],
   "source": [
    "TRAIN_DATA_PATH = './train.csv'\n",
    "TEST_DATA_PATH = './test.csv'\n",
    "SUBMIT_DATA_PATH = './sample_submission.csv'"
   ]
  },
  {
   "cell_type": "code",
   "execution_count": 4,
   "metadata": {},
   "outputs": [],
   "source": [
    "train = pd.read_csv(TRAIN_DATA_PATH)\n",
    "test = pd.read_csv(TEST_DATA_PATH)"
   ]
  },
  {
   "cell_type": "code",
   "execution_count": 5,
   "metadata": {},
   "outputs": [],
   "source": [
    "x_train = train.drop(['target','ID_code'], axis=1)\n",
    "y_train = train['target'].values\n",
    "use_cols = x_train.columns.values"
   ]
  },
  {
   "cell_type": "code",
   "execution_count": 6,
   "metadata": {},
   "outputs": [],
   "source": [
    "cv = StratifiedKFold(n_splits=5, shuffle=True, random_state=1)\n",
    "\n",
    "list_auc_score = []\n",
    "list_logloss_score = []\n",
    "\n",
    "for trn_idx, val_idx in cv.split(x_train, y_train):\n",
    "    trn_x = x_train.iloc[trn_idx, :]\n",
    "    val_x = x_train.iloc[val_idx, :]\n",
    "    trn_y = y_train[trn_idx]\n",
    "    val_y = y_train[val_idx]\n",
    "    \n",
    "    clf = LogisticRegression(random_state=1)\n",
    "    clf.fit(trn_x, trn_y)\n",
    "    pred = clf.predict_proba(val_x)[:, 1]\n",
    "    \n",
    "    sc_logloss = log_loss(val_y, pred)\n",
    "    sc_auc = roc_auc_score(val_y, pred)\n",
    "    \n",
    "    list_logloss_score.append(sc_logloss)\n",
    "    list_auc_score.append(sc_auc)"
   ]
  },
  {
   "cell_type": "code",
   "execution_count": 12,
   "metadata": {},
   "outputs": [],
   "source": [
    "clf = LogisticRegression(random_state=1)\n",
    "clf.fit(x_train, y_train)\n",
    "\n",
    "x_test = test[use_cols]\n",
    "pred_test = clf.predict_proba(x_test)[:, 1]"
   ]
  },
  {
   "cell_type": "code",
   "execution_count": 20,
   "metadata": {},
   "outputs": [],
   "source": [
    "df_submit = pd.read_csv(SUBMIT_DATA_PATH)\n",
    "df_submit['target'] = pred_test\n",
    "df_submit.to_csv('LogisticRegression.csv', index=False)"
   ]
  }
 ],
 "metadata": {
  "kernelspec": {
   "display_name": "Python 3",
   "language": "python",
   "name": "python3"
  },
  "language_info": {
   "codemirror_mode": {
    "name": "ipython",
    "version": 3
   },
   "file_extension": ".py",
   "mimetype": "text/x-python",
   "name": "python",
   "nbconvert_exporter": "python",
   "pygments_lexer": "ipython3",
   "version": "3.6.5"
  }
 },
 "nbformat": 4,
 "nbformat_minor": 2
}
