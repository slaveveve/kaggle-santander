{
 "cells": [
  {
   "cell_type": "code",
   "execution_count": 1,
   "metadata": {},
   "outputs": [],
   "source": [
    "import pandas as pd\n",
    "import numpy as np\n",
    "from sklearn.metrics import roc_auc_score\n",
    "from sklearn.model_selection import StratifiedKFold\n",
    "from sklearn.calibration import CalibratedClassifierCV\n",
    "from datetime import datetime\n",
    "from sklearn.svm import LinearSVC\n",
    "import os\n",
    "os.environ['KMP_DUPLICATE_LIB_OK']='True'"
   ]
  },
  {
   "cell_type": "code",
   "execution_count": 25,
   "metadata": {},
   "outputs": [],
   "source": [
    "def timer(start_time=None):\n",
    "    if not start_time:\n",
    "        start_time = datetime.now()\n",
    "        return start_time\n",
    "    elif start_time:\n",
    "        thour, temp_sec = divmod((datetime.now() - start_time).total_seconds(), 3600)\n",
    "        tmin, tsec = divmod(temp_sec, 60)\n",
    "        print('\\n Time taken: %i hours %i minutes adn %s seconds.' %(thour, tmin, round(tsec, 2)))"
   ]
  },
  {
   "cell_type": "code",
   "execution_count": 26,
   "metadata": {},
   "outputs": [],
   "source": [
    "DATA_TRAIN_PATH = './train.csv'\n",
    "DATA_TEST_PATH = './test.csv'"
   ]
  },
  {
   "cell_type": "code",
   "execution_count": 27,
   "metadata": {},
   "outputs": [],
   "source": [
    "def load_data(path_train = DATA_TRAIN_PATH, path_test = DATA_TEST_PATH):\n",
    "    train = pd.read_csv(path_train)\n",
    "    print('\\n Shape of train data:', train.shape)\n",
    "    train_labels = train['target'].values\n",
    "    train_ids = train['ID_code'].values\n",
    "    train = train.drop(['target', 'ID_code'], axis=1).values\n",
    "    \n",
    "    test = pd.read_csv(path_test)\n",
    "    print('\\n Shape of test data:', test.shape)\n",
    "    test_ids = test['ID_code'].values\n",
    "    test = test.drop(['ID_code'], axis=1).values\n",
    "    \n",
    "    return train, train_labels, test, train_ids, test_ids"
   ]
  },
  {
   "cell_type": "code",
   "execution_count": 28,
   "metadata": {},
   "outputs": [
    {
     "name": "stdout",
     "output_type": "stream",
     "text": [
      "\n",
      " Shape of train data: (200000, 202)\n",
      "\n",
      " Shape of test data: (200000, 201)\n"
     ]
    }
   ],
   "source": [
    "starttime = timer(None)\n",
    "X_train, y_train, X_test, train_ids, test_ids = load_data()\n",
    "seq_ids = np.arange(train_ids.shape[0])"
   ]
  },
  {
   "cell_type": "code",
   "execution_count": 29,
   "metadata": {},
   "outputs": [],
   "source": [
    "folds = 5\n",
    "cv_sum = 0\n",
    "pred = []\n",
    "fpred = []\n",
    "\n",
    "avreal =y_train\n",
    "avpred = np.zeros(X_train.shape[0])\n",
    "idpred = train_ids"
   ]
  },
  {
   "cell_type": "code",
   "execution_count": 31,
   "metadata": {
    "scrolled": true
   },
   "outputs": [
    {
     "name": "stdout",
     "output_type": "stream",
     "text": [
      "\n",
      " Fold 01\n",
      "[LibLinear][LibLinear][LibLinear][LibLinear][LibLinear] Fold 01 AUC: 0.858162\n",
      "\n",
      " Time taken: 0 hours 9 minutes adn 18.38 seconds.\n",
      "\n",
      " Fold 02\n",
      "[LibLinear][LibLinear][LibLinear][LibLinear][LibLinear] Fold 02 AUC: 0.858949\n",
      "\n",
      " Time taken: 0 hours 8 minutes adn 2.7 seconds.\n",
      "\n",
      " Fold 03\n",
      "[LibLinear][LibLinear][LibLinear][LibLinear][LibLinear] Fold 03 AUC: 0.858047\n",
      "\n",
      " Time taken: 0 hours 7 minutes adn 6.2 seconds.\n",
      "\n",
      " Fold 04\n",
      "[LibLinear][LibLinear][LibLinear][LibLinear][LibLinear] Fold 04 AUC: 0.862615\n",
      "\n",
      " Time taken: 0 hours 7 minutes adn 33.42 seconds.\n",
      "\n",
      " Fold 05\n",
      "[LibLinear][LibLinear][LibLinear][LibLinear][LibLinear] Fold 05 AUC: 0.857252\n",
      "\n",
      " Time taken: 0 hours 6 minutes adn 51.67 seconds.\n",
      "\n",
      " Time taken: 0 hours 38 minutes adn 52.47 seconds.\n",
      "\n",
      " Average AUC: 0.859005\n",
      " Out-of-fold AUC: 0.859008\n",
      "\n",
      " Writing out-of-fold train file::  train_5x-LinearSVC-01-v1-oof_0859008_2019-03-22-01-47.csv\n"
     ]
    },
    {
     "ename": "NameError",
     "evalue": "name 'te_ids' is not defined",
     "output_type": "error",
     "traceback": [
      "\u001b[0;31m---------------------------------------------------------------------------\u001b[0m",
      "\u001b[0;31mNameError\u001b[0m                                 Traceback (most recent call last)",
      "\u001b[0;32m<ipython-input-31-b4db11527c2f>\u001b[0m in \u001b[0;36m<module>\u001b[0;34m()\u001b[0m\n\u001b[1;32m     52\u001b[0m \u001b[0;34m\u001b[0m\u001b[0m\n\u001b[1;32m     53\u001b[0m \u001b[0mresult\u001b[0m \u001b[0;34m=\u001b[0m \u001b[0mpd\u001b[0m\u001b[0;34m.\u001b[0m\u001b[0mDataFrame\u001b[0m\u001b[0;34m(\u001b[0m\u001b[0mmpred\u001b[0m\u001b[0;34m,\u001b[0m \u001b[0mcolumns\u001b[0m\u001b[0;34m=\u001b[0m\u001b[0;34m[\u001b[0m\u001b[0;34m'target'\u001b[0m\u001b[0;34m]\u001b[0m\u001b[0;34m)\u001b[0m\u001b[0;34m\u001b[0m\u001b[0m\n\u001b[0;32m---> 54\u001b[0;31m \u001b[0mresult\u001b[0m\u001b[0;34m[\u001b[0m\u001b[0;34m'ID_code'\u001b[0m\u001b[0;34m]\u001b[0m \u001b[0;34m=\u001b[0m \u001b[0mte_ids\u001b[0m\u001b[0;34m\u001b[0m\u001b[0m\n\u001b[0m\u001b[1;32m     55\u001b[0m \u001b[0mresult\u001b[0m \u001b[0;34m=\u001b[0m \u001b[0mresult\u001b[0m\u001b[0;34m[\u001b[0m\u001b[0;34m[\u001b[0m\u001b[0;34m'ID_code'\u001b[0m\u001b[0;34m,\u001b[0m \u001b[0;34m'target'\u001b[0m\u001b[0;34m]\u001b[0m\u001b[0;34m]\u001b[0m\u001b[0;34m\u001b[0m\u001b[0m\n\u001b[1;32m     56\u001b[0m \u001b[0mprint\u001b[0m\u001b[0;34m(\u001b[0m\u001b[0;34m'\\n First 10 lines of your prediction:'\u001b[0m\u001b[0;34m)\u001b[0m\u001b[0;34m\u001b[0m\u001b[0m\n",
      "\u001b[0;31mNameError\u001b[0m: name 'te_ids' is not defined"
     ]
    }
   ],
   "source": [
    "train_time = timer(None)\n",
    "skf = StratifiedKFold(n_splits=folds, shuffle=True, random_state=0)\n",
    "\n",
    "for i, (train_index, val_index) in enumerate(skf.split(X_train, y_train)):\n",
    "    start_time = timer(None)\n",
    "    print('\\n Fold %02d' % (i+1))\n",
    "    Xtrain, Xval = X_train[train_index], X_train[val_index]\n",
    "    ytrain, yval = y_train[train_index], y_train[val_index]\n",
    "    model = LinearSVC(C=0.01, tol=0.0001, verbose=1, random_state=1001, max_iter=2000, dual=False)\n",
    "    isotonic = CalibratedClassifierCV(model, cv=5, method='isotonic')\n",
    "    sigmoid = CalibratedClassifierCV(model, cv=5, method='sigmoid')\n",
    "    \n",
    "#     isotonic.fit(Xtrain, ytrain)\n",
    "    sigmoid.fit(Xtrain,ytrain)\n",
    "#     scores_val = isotonic.predict_proba(Xval)[:, 1]\n",
    "    scores_val = sigmoid.predict_proba(Xval)[:, 1]\n",
    "    ROC_AUC = roc_auc_score(yval, scores_val)\n",
    "    print(' Fold %02d AUC: %.6f' % ((i+1), ROC_AUC))\n",
    "    \n",
    "#     y_pred = isotonic.predict_proba(X_test)[:, 1]\n",
    "    y_pred = sigmoid.predict_proba(X_test)[:, 1]\n",
    "    timer(start_time)\n",
    "    \n",
    "    avpred[val_index] = scores_val\n",
    "    \n",
    "    if i > 0:\n",
    "        fpred = pred + y_pred\n",
    "    else:\n",
    "        fpred = y_pred\n",
    "    pred = fpred\n",
    "    cv_sum = cv_sum + ROC_AUC\n",
    "\n",
    "timer(train_time)\n",
    "\n",
    "cv_score = (cv_sum / folds)\n",
    "oof_ROC_AUC = roc_auc_score(avreal, avpred)\n",
    "print('\\n Average AUC: %.6f' % cv_score)\n",
    "print(' Out-of-fold AUC: %.6f' % oof_ROC_AUC)\n",
    "score = str(round(oof_ROC_AUC, 6)).replace('.', '')\n",
    "mpred = pred / folds\n",
    "\n",
    "now = datetime.now()\n",
    "oof_result = pd.DataFrame(avreal, columns=['target'])\n",
    "oof_result['prediction'] = avpred\n",
    "oof_result['ID_code'] = idpred\n",
    "oof_result['seq_id'] = seq_ids\n",
    "oof_result.sort_values('seq_id', ascending=True, inplace=True)\n",
    "oof_result = oof_result[['ID_code', 'target', 'prediction']]\n",
    "sub_file = 'train_5x-LinearSVC-01-v1-oof_' + score + '_' + str(now.strftime('%Y-%m-%d-%H-%M')) + '.csv'\n",
    "print('\\n Writing out-of-fold train file::  %s' % sub_file)\n",
    "oof_result.to_csv(sub_file, index=False, float_format='%.6f')"
   ]
  },
  {
   "cell_type": "code",
   "execution_count": 32,
   "metadata": {},
   "outputs": [
    {
     "name": "stdout",
     "output_type": "stream",
     "text": [
      "\n",
      " First 10 lines of your prediction:\n",
      "  ID_code    target\n",
      "0  test_0  0.188497\n",
      "1  test_1  0.234322\n",
      "2  test_2  0.040344\n",
      "3  test_3  0.184748\n",
      "4  test_4  0.079567\n",
      "5  test_5  0.002633\n",
      "6  test_6  0.005950\n",
      "7  test_7  0.184337\n",
      "8  test_8  0.002407\n",
      "9  test_9  0.008053\n",
      "\n",
      " Writing submission:  submission_5x-LinearSVC-01-v1_0859008_2019-03-22-01-47.csv\n",
      "\n",
      " Time taken: 0 hours 56 minutes adn 0.39 seconds.\n"
     ]
    }
   ],
   "source": [
    "result = pd.DataFrame(mpred, columns=['target'])\n",
    "result['ID_code'] = test_ids\n",
    "result = result[['ID_code', 'target']]\n",
    "print('\\n First 10 lines of your prediction:')\n",
    "print(result.head(10))\n",
    "\n",
    "sub_file = 'submission_5x-LinearSVC-01-v1_' + score + '_' + str(now.strftime('%Y-%m-%d-%H-%M')) + '.csv'\n",
    "print('\\n Writing submission:  %s' % sub_file)\n",
    "result.to_csv(sub_file, index=False, float_format='%.6f')\n",
    "timer(starttime)"
   ]
  },
  {
   "cell_type": "code",
   "execution_count": null,
   "metadata": {},
   "outputs": [],
   "source": []
  },
  {
   "cell_type": "code",
   "execution_count": null,
   "metadata": {},
   "outputs": [],
   "source": []
  },
  {
   "cell_type": "code",
   "execution_count": null,
   "metadata": {},
   "outputs": [],
   "source": []
  },
  {
   "cell_type": "code",
   "execution_count": null,
   "metadata": {},
   "outputs": [],
   "source": []
  },
  {
   "cell_type": "code",
   "execution_count": null,
   "metadata": {},
   "outputs": [],
   "source": []
  },
  {
   "cell_type": "code",
   "execution_count": null,
   "metadata": {},
   "outputs": [],
   "source": []
  },
  {
   "cell_type": "code",
   "execution_count": null,
   "metadata": {},
   "outputs": [],
   "source": []
  },
  {
   "cell_type": "code",
   "execution_count": null,
   "metadata": {},
   "outputs": [],
   "source": []
  }
 ],
 "metadata": {
  "kernelspec": {
   "display_name": "Python 3",
   "language": "python",
   "name": "python3"
  },
  "language_info": {
   "codemirror_mode": {
    "name": "ipython",
    "version": 3
   },
   "file_extension": ".py",
   "mimetype": "text/x-python",
   "name": "python",
   "nbconvert_exporter": "python",
   "pygments_lexer": "ipython3",
   "version": "3.6.5"
  }
 },
 "nbformat": 4,
 "nbformat_minor": 2
}
