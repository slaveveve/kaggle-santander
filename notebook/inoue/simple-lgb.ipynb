{
 "cells": [
  {
   "cell_type": "code",
   "execution_count": 1,
   "metadata": {
    "_cell_guid": "b1076dfc-b9ad-4769-8c92-a6c4dae69d19",
    "_uuid": "8f2839f25d086af736a60e9eeb907d3b93b6e0e5"
   },
   "outputs": [
    {
     "name": "stdout",
     "output_type": "stream",
     "text": [
      "['train.csv', 'sample_submission.csv', 'test.csv']\n"
     ]
    }
   ],
   "source": [
    "import numpy as np\n",
    "import pandas as pd\n",
    "import seaborn as sns\n",
    "sns.set_style('whitegrid')\n",
    "import time\n",
    "import lightgbm as lgb\n",
    "from sklearn.model_selection import KFold, StratifiedKFold, GridSearchCV\n",
    "import xgboost as xgb\n",
    "import matplotlib.pyplot as plt\n",
    "from sklearn.metrics import roc_auc_score, roc_curve\n",
    "from sklearn.decomposition import PCA\n",
    "from sklearn.preprocessing import StandardScaler\n",
    "import os\n",
    "print(os.listdir(\"../input\"))"
   ]
  },
  {
   "cell_type": "code",
   "execution_count": 2,
   "metadata": {
    "_cell_guid": "79c7e3d0-c299-4dcb-8224-4455121ee9b0",
    "_uuid": "d629ff2d2480ee46fbb7e2d37f6b5fab8052498a"
   },
   "outputs": [
    {
     "name": "stdout",
     "output_type": "stream",
     "text": [
      "CPU times: user 0 ns, sys: 0 ns, total: 0 ns\n",
      "Wall time: 6.91 µs\n"
     ]
    }
   ],
   "source": [
    "%time\n",
    "train_df = pd.read_csv('../input/train.csv')\n",
    "test_df = pd.read_csv('../input/test.csv')"
   ]
  },
  {
   "cell_type": "code",
   "execution_count": 3,
   "metadata": {
    "_uuid": "7fd9c703b5bffe3b724f8d9a1dcc582df1433486"
   },
   "outputs": [],
   "source": [
    "features = [c for c in train_df.columns if c not in ['ID_code', 'target']]\n",
    "target = train_df['target']"
   ]
  },
  {
   "cell_type": "code",
   "execution_count": 4,
   "metadata": {
    "_uuid": "561a8daff14745c3dcd6975b453223bf6a098154"
   },
   "outputs": [],
   "source": [
    "param = {\n",
    "    'bagging_freq': 5,\n",
    "    'bagging_fraction': 0.4,\n",
    "    'boost_from_average':'false',\n",
    "    'boost': 'gbdt',\n",
    "    'feature_fraction': 0.05,\n",
    "    'learning_rate': 0.01,\n",
    "    'max_depth': -1,  \n",
    "    'metric':'auc',\n",
    "    'min_data_in_leaf': 80,\n",
    "    'min_sum_hessian_in_leaf': 10.0,\n",
    "    'num_leaves': 13,\n",
    "    'num_threads': 8,\n",
    "    'tree_learner': 'serial',\n",
    "    'objective': 'binary', \n",
    "    'verbosity': 1\n",
    "}"
   ]
  },
  {
   "cell_type": "code",
   "execution_count": 5,
   "metadata": {
    "_uuid": "fb90d2002e8d5106211df2a532acb199fa0f78ac"
   },
   "outputs": [
    {
     "name": "stdout",
     "output_type": "stream",
     "text": [
      "Fold 0\n",
      "Training until validation scores don't improve for 3000 rounds.\n",
      "[1000]\ttraining's auc: 0.89904\tvalid_1's auc: 0.880364\n",
      "[2000]\ttraining's auc: 0.911204\tvalid_1's auc: 0.888868\n",
      "[3000]\ttraining's auc: 0.91903\tvalid_1's auc: 0.893151\n",
      "[4000]\ttraining's auc: 0.924854\tvalid_1's auc: 0.896012\n",
      "[5000]\ttraining's auc: 0.929701\tvalid_1's auc: 0.897714\n",
      "[6000]\ttraining's auc: 0.933934\tvalid_1's auc: 0.898494\n",
      "[7000]\ttraining's auc: 0.93786\tvalid_1's auc: 0.898994\n",
      "[8000]\ttraining's auc: 0.941613\tvalid_1's auc: 0.89928\n",
      "[9000]\ttraining's auc: 0.945152\tvalid_1's auc: 0.899671\n",
      "[10000]\ttraining's auc: 0.948466\tvalid_1's auc: 0.899878\n",
      "[11000]\ttraining's auc: 0.951758\tvalid_1's auc: 0.900177\n",
      "[12000]\ttraining's auc: 0.954863\tvalid_1's auc: 0.899992\n",
      "[13000]\ttraining's auc: 0.957793\tvalid_1's auc: 0.899881\n",
      "[14000]\ttraining's auc: 0.96065\tvalid_1's auc: 0.899628\n",
      "Early stopping, best iteration is:\n",
      "[11045]\ttraining's auc: 0.951908\tvalid_1's auc: 0.900223\n",
      "Fold 1\n",
      "Training until validation scores don't improve for 3000 rounds.\n",
      "[1000]\ttraining's auc: 0.898872\tvalid_1's auc: 0.881324\n",
      "[2000]\ttraining's auc: 0.911092\tvalid_1's auc: 0.890141\n",
      "[3000]\ttraining's auc: 0.918887\tvalid_1's auc: 0.894037\n",
      "[4000]\ttraining's auc: 0.924725\tvalid_1's auc: 0.896563\n",
      "[5000]\ttraining's auc: 0.929615\tvalid_1's auc: 0.898167\n",
      "[6000]\ttraining's auc: 0.933852\tvalid_1's auc: 0.898875\n",
      "[7000]\ttraining's auc: 0.937735\tvalid_1's auc: 0.89924\n",
      "[8000]\ttraining's auc: 0.941427\tvalid_1's auc: 0.899545\n",
      "[9000]\ttraining's auc: 0.945019\tvalid_1's auc: 0.899597\n",
      "[10000]\ttraining's auc: 0.948402\tvalid_1's auc: 0.899566\n",
      "[11000]\ttraining's auc: 0.951631\tvalid_1's auc: 0.899664\n",
      "[12000]\ttraining's auc: 0.954666\tvalid_1's auc: 0.899486\n",
      "[13000]\ttraining's auc: 0.957626\tvalid_1's auc: 0.89939\n",
      "Early stopping, best iteration is:\n",
      "[10577]\ttraining's auc: 0.950291\tvalid_1's auc: 0.899729\n",
      "Fold 2\n",
      "Training until validation scores don't improve for 3000 rounds.\n",
      "[1000]\ttraining's auc: 0.899456\tvalid_1's auc: 0.875464\n",
      "[2000]\ttraining's auc: 0.911636\tvalid_1's auc: 0.88445\n",
      "[3000]\ttraining's auc: 0.919401\tvalid_1's auc: 0.889283\n",
      "[4000]\ttraining's auc: 0.925163\tvalid_1's auc: 0.891698\n",
      "[5000]\ttraining's auc: 0.930008\tvalid_1's auc: 0.893217\n",
      "[6000]\ttraining's auc: 0.934161\tvalid_1's auc: 0.894368\n",
      "[7000]\ttraining's auc: 0.938011\tvalid_1's auc: 0.894915\n",
      "[8000]\ttraining's auc: 0.941698\tvalid_1's auc: 0.895107\n",
      "[9000]\ttraining's auc: 0.945271\tvalid_1's auc: 0.89496\n",
      "[10000]\ttraining's auc: 0.948626\tvalid_1's auc: 0.894985\n",
      "Early stopping, best iteration is:\n",
      "[7863]\ttraining's auc: 0.941219\tvalid_1's auc: 0.895159\n",
      "Fold 3\n",
      "Training until validation scores don't improve for 3000 rounds.\n",
      "[1000]\ttraining's auc: 0.898755\tvalid_1's auc: 0.880937\n",
      "[2000]\ttraining's auc: 0.910972\tvalid_1's auc: 0.890718\n",
      "[3000]\ttraining's auc: 0.918966\tvalid_1's auc: 0.894582\n",
      "[4000]\ttraining's auc: 0.924802\tvalid_1's auc: 0.896677\n",
      "[5000]\ttraining's auc: 0.929742\tvalid_1's auc: 0.897598\n",
      "[6000]\ttraining's auc: 0.933987\tvalid_1's auc: 0.898084\n",
      "[7000]\ttraining's auc: 0.937911\tvalid_1's auc: 0.898305\n",
      "[8000]\ttraining's auc: 0.941628\tvalid_1's auc: 0.898558\n",
      "[9000]\ttraining's auc: 0.945165\tvalid_1's auc: 0.898465\n",
      "[10000]\ttraining's auc: 0.948493\tvalid_1's auc: 0.898567\n",
      "[11000]\ttraining's auc: 0.951717\tvalid_1's auc: 0.898491\n",
      "[12000]\ttraining's auc: 0.954791\tvalid_1's auc: 0.898268\n",
      "Early stopping, best iteration is:\n",
      "[9716]\ttraining's auc: 0.947579\tvalid_1's auc: 0.898615\n",
      "Fold 4\n",
      "Training until validation scores don't improve for 3000 rounds.\n",
      "[1000]\ttraining's auc: 0.898756\tvalid_1's auc: 0.880866\n",
      "[2000]\ttraining's auc: 0.910845\tvalid_1's auc: 0.890799\n",
      "[3000]\ttraining's auc: 0.918796\tvalid_1's auc: 0.895208\n",
      "[4000]\ttraining's auc: 0.924658\tvalid_1's auc: 0.897531\n",
      "[5000]\ttraining's auc: 0.929576\tvalid_1's auc: 0.898924\n",
      "[6000]\ttraining's auc: 0.933837\tvalid_1's auc: 0.899703\n",
      "[7000]\ttraining's auc: 0.937772\tvalid_1's auc: 0.900308\n",
      "[8000]\ttraining's auc: 0.941416\tvalid_1's auc: 0.900431\n",
      "[9000]\ttraining's auc: 0.944971\tvalid_1's auc: 0.900233\n",
      "[10000]\ttraining's auc: 0.948268\tvalid_1's auc: 0.900028\n",
      "[11000]\ttraining's auc: 0.951548\tvalid_1's auc: 0.900111\n",
      "Early stopping, best iteration is:\n",
      "[8031]\ttraining's auc: 0.941528\tvalid_1's auc: 0.900462\n",
      "Fold 5\n",
      "Training until validation scores don't improve for 3000 rounds.\n",
      "[1000]\ttraining's auc: 0.898106\tvalid_1's auc: 0.886226\n",
      "[2000]\ttraining's auc: 0.910525\tvalid_1's auc: 0.894652\n",
      "[3000]\ttraining's auc: 0.918514\tvalid_1's auc: 0.898661\n",
      "[4000]\ttraining's auc: 0.924481\tvalid_1's auc: 0.900751\n",
      "[5000]\ttraining's auc: 0.929454\tvalid_1's auc: 0.902105\n",
      "[6000]\ttraining's auc: 0.933804\tvalid_1's auc: 0.902821\n",
      "[7000]\ttraining's auc: 0.937765\tvalid_1's auc: 0.902995\n",
      "[8000]\ttraining's auc: 0.941446\tvalid_1's auc: 0.903154\n",
      "[9000]\ttraining's auc: 0.944993\tvalid_1's auc: 0.903363\n",
      "[10000]\ttraining's auc: 0.948314\tvalid_1's auc: 0.9034\n",
      "[11000]\ttraining's auc: 0.951562\tvalid_1's auc: 0.903391\n",
      "[12000]\ttraining's auc: 0.954655\tvalid_1's auc: 0.903289\n",
      "[13000]\ttraining's auc: 0.957648\tvalid_1's auc: 0.903262\n",
      "Early stopping, best iteration is:\n",
      "[10229]\ttraining's auc: 0.949078\tvalid_1's auc: 0.903449\n",
      "Fold 6\n",
      "Training until validation scores don't improve for 3000 rounds.\n",
      "[1000]\ttraining's auc: 0.898631\tvalid_1's auc: 0.883448\n",
      "[2000]\ttraining's auc: 0.91088\tvalid_1's auc: 0.892046\n",
      "[3000]\ttraining's auc: 0.918802\tvalid_1's auc: 0.896592\n",
      "[4000]\ttraining's auc: 0.924723\tvalid_1's auc: 0.898649\n",
      "[5000]\ttraining's auc: 0.929617\tvalid_1's auc: 0.899721\n",
      "[6000]\ttraining's auc: 0.933906\tvalid_1's auc: 0.900308\n",
      "[7000]\ttraining's auc: 0.937832\tvalid_1's auc: 0.900717\n",
      "[8000]\ttraining's auc: 0.941555\tvalid_1's auc: 0.900916\n",
      "[9000]\ttraining's auc: 0.94506\tvalid_1's auc: 0.900607\n",
      "[10000]\ttraining's auc: 0.948425\tvalid_1's auc: 0.900518\n",
      "Early stopping, best iteration is:\n",
      "[7475]\ttraining's auc: 0.939642\tvalid_1's auc: 0.900965\n",
      "Fold 7\n",
      "Training until validation scores don't improve for 3000 rounds.\n",
      "[1000]\ttraining's auc: 0.898676\tvalid_1's auc: 0.880199\n",
      "[2000]\ttraining's auc: 0.911049\tvalid_1's auc: 0.889752\n",
      "[3000]\ttraining's auc: 0.918968\tvalid_1's auc: 0.894568\n",
      "[4000]\ttraining's auc: 0.924842\tvalid_1's auc: 0.897449\n",
      "[5000]\ttraining's auc: 0.929663\tvalid_1's auc: 0.89896\n",
      "[6000]\ttraining's auc: 0.933875\tvalid_1's auc: 0.899934\n",
      "[7000]\ttraining's auc: 0.937866\tvalid_1's auc: 0.90027\n",
      "[8000]\ttraining's auc: 0.941586\tvalid_1's auc: 0.900556\n",
      "[9000]\ttraining's auc: 0.945083\tvalid_1's auc: 0.900757\n",
      "[10000]\ttraining's auc: 0.948416\tvalid_1's auc: 0.900799\n",
      "[11000]\ttraining's auc: 0.951675\tvalid_1's auc: 0.900676\n",
      "[12000]\ttraining's auc: 0.954768\tvalid_1's auc: 0.900403\n",
      "[13000]\ttraining's auc: 0.95775\tvalid_1's auc: 0.900246\n",
      "Early stopping, best iteration is:\n",
      "[10038]\ttraining's auc: 0.948551\tvalid_1's auc: 0.900819\n",
      "Fold 8\n",
      "Training until validation scores don't improve for 3000 rounds.\n",
      "[1000]\ttraining's auc: 0.89779\tvalid_1's auc: 0.888166\n",
      "[2000]\ttraining's auc: 0.910458\tvalid_1's auc: 0.896618\n",
      "[3000]\ttraining's auc: 0.918615\tvalid_1's auc: 0.900943\n",
      "[4000]\ttraining's auc: 0.924387\tvalid_1's auc: 0.903001\n",
      "[5000]\ttraining's auc: 0.9293\tvalid_1's auc: 0.904178\n",
      "[6000]\ttraining's auc: 0.933534\tvalid_1's auc: 0.904738\n",
      "[7000]\ttraining's auc: 0.937463\tvalid_1's auc: 0.905103\n",
      "[8000]\ttraining's auc: 0.94117\tvalid_1's auc: 0.905392\n",
      "[9000]\ttraining's auc: 0.944675\tvalid_1's auc: 0.905481\n",
      "[10000]\ttraining's auc: 0.948106\tvalid_1's auc: 0.905589\n",
      "[11000]\ttraining's auc: 0.951319\tvalid_1's auc: 0.90545\n",
      "[12000]\ttraining's auc: 0.954441\tvalid_1's auc: 0.905497\n",
      "[13000]\ttraining's auc: 0.957453\tvalid_1's auc: 0.905272\n",
      "Early stopping, best iteration is:\n",
      "[10232]\ttraining's auc: 0.948883\tvalid_1's auc: 0.905628\n",
      "Fold 9\n",
      "Training until validation scores don't improve for 3000 rounds.\n",
      "[1000]\ttraining's auc: 0.898783\tvalid_1's auc: 0.883983\n",
      "[2000]\ttraining's auc: 0.911112\tvalid_1's auc: 0.891819\n",
      "[3000]\ttraining's auc: 0.919056\tvalid_1's auc: 0.896176\n",
      "[4000]\ttraining's auc: 0.924853\tvalid_1's auc: 0.89825\n",
      "[5000]\ttraining's auc: 0.929797\tvalid_1's auc: 0.899577\n",
      "[6000]\ttraining's auc: 0.934085\tvalid_1's auc: 0.900182\n",
      "[7000]\ttraining's auc: 0.937978\tvalid_1's auc: 0.900687\n",
      "[8000]\ttraining's auc: 0.941648\tvalid_1's auc: 0.900745\n",
      "[9000]\ttraining's auc: 0.945235\tvalid_1's auc: 0.900773\n",
      "[10000]\ttraining's auc: 0.94862\tvalid_1's auc: 0.900838\n",
      "[11000]\ttraining's auc: 0.951843\tvalid_1's auc: 0.900587\n",
      "[12000]\ttraining's auc: 0.954894\tvalid_1's auc: 0.900639\n",
      "Early stopping, best iteration is:\n",
      "[9691]\ttraining's auc: 0.947612\tvalid_1's auc: 0.900898\n",
      "CV score: 0.90053 \n"
     ]
    }
   ],
   "source": [
    "folds = StratifiedKFold(n_splits=10, shuffle=False, random_state=44000)\n",
    "oof = np.zeros(len(train_df))\n",
    "predictions = np.zeros(len(test_df))\n",
    "feature_importance_df = pd.DataFrame()\n",
    "\n",
    "for fold_, (trn_idx, val_idx) in enumerate(folds.split(train_df.values, target.values)):\n",
    "    print(\"Fold {}\".format(fold_))\n",
    "    trn_data = lgb.Dataset(train_df.iloc[trn_idx][features], label=target.iloc[trn_idx])\n",
    "    val_data = lgb.Dataset(train_df.iloc[val_idx][features], label=target.iloc[val_idx])\n",
    "\n",
    "    num_round = 1000000\n",
    "    clf = lgb.train(param, trn_data, num_round, valid_sets = [trn_data, val_data], verbose_eval=1000, early_stopping_rounds = 3000)\n",
    "    oof[val_idx] = clf.predict(train_df.iloc[val_idx][features], num_iteration=clf.best_iteration)\n",
    "    \n",
    "    fold_importance_df = pd.DataFrame()\n",
    "    fold_importance_df[\"Feature\"] = features\n",
    "    fold_importance_df[\"importance\"] = clf.feature_importance()\n",
    "    fold_importance_df[\"fold\"] = fold_ + 1\n",
    "    feature_importance_df = pd.concat([feature_importance_df, fold_importance_df], axis=0)\n",
    "    \n",
    "    predictions += clf.predict(test_df[features], num_iteration=clf.best_iteration) / folds.n_splits\n",
    "\n",
    "print(\"CV score: {:<8.5f}\".format(roc_auc_score(target, oof)))\n"
   ]
  },
  {
   "cell_type": "code",
   "execution_count": 6,
   "metadata": {
    "_uuid": "434745dd8266a9a4a3a619663cf05d9683358b50"
   },
   "outputs": [
    {
     "ename": "NameError",
     "evalue": "name 'prediction' is not defined",
     "output_type": "error",
     "traceback": [
      "\u001b[0;31m---------------------------------------------------------------------------\u001b[0m",
      "\u001b[0;31mNameError\u001b[0m                                 Traceback (most recent call last)",
      "\u001b[0;32m<ipython-input-6-d50d22e2ed24>\u001b[0m in \u001b[0;36m<module>\u001b[0;34m()\u001b[0m\n\u001b[1;32m      1\u001b[0m \u001b[0msub\u001b[0m \u001b[0;34m=\u001b[0m \u001b[0mpd\u001b[0m\u001b[0;34m.\u001b[0m\u001b[0mDataFrame\u001b[0m\u001b[0;34m(\u001b[0m\u001b[0;34m{\u001b[0m\u001b[0;34m\"ID_code\"\u001b[0m\u001b[0;34m:\u001b[0m \u001b[0mtest_df\u001b[0m\u001b[0;34m.\u001b[0m\u001b[0mID_code\u001b[0m\u001b[0;34m.\u001b[0m\u001b[0mvalues\u001b[0m\u001b[0;34m}\u001b[0m\u001b[0;34m)\u001b[0m\u001b[0;34m\u001b[0m\u001b[0m\n\u001b[0;32m----> 2\u001b[0;31m \u001b[0msub\u001b[0m\u001b[0;34m[\u001b[0m\u001b[0;34m\"target\"\u001b[0m\u001b[0;34m]\u001b[0m\u001b[0;34m=\u001b[0m\u001b[0mprediction\u001b[0m\u001b[0;34m\u001b[0m\u001b[0m\n\u001b[0m\u001b[1;32m      3\u001b[0m \u001b[0msub\u001b[0m\u001b[0;34m.\u001b[0m\u001b[0mto_csv\u001b[0m\u001b[0;34m(\u001b[0m\u001b[0;34m\"submission.csv\"\u001b[0m\u001b[0;34m,\u001b[0m \u001b[0mindex\u001b[0m\u001b[0;34m=\u001b[0m\u001b[0;32mFalse\u001b[0m\u001b[0;34m)\u001b[0m\u001b[0;34m\u001b[0m\u001b[0m\n",
      "\u001b[0;31mNameError\u001b[0m: name 'prediction' is not defined"
     ]
    }
   ],
   "source": [
    "sub = pd.DataFrame({\"ID_code\": test_df.ID_code.values})\n",
    "sub[\"target\"]=prediction\n",
    "sub.to_csv(\"submission.csv\", index=False)"
   ]
  },
  {
   "cell_type": "code",
   "execution_count": 7,
   "metadata": {
    "_uuid": "3d1982b337f0b6acb6771da605dd3cad8a0483ef"
   },
   "outputs": [],
   "source": []
  },
  {
   "cell_type": "code",
   "execution_count": 7,
   "metadata": {
    "_uuid": "96daceee49333e2f52637aac27a19fa5daff9047"
   },
   "outputs": [],
   "source": []
  },
  {
   "cell_type": "code",
   "execution_count": 7,
   "metadata": {
    "_uuid": "db557aa86f96a88a5d11658128b7809506c9b231"
   },
   "outputs": [],
   "source": []
  }
 ],
 "metadata": {
  "kernelspec": {
   "display_name": "Python 3",
   "language": "python",
   "name": "python3"
  },
  "language_info": {
   "codemirror_mode": {
    "name": "ipython",
    "version": 3
   },
   "file_extension": ".py",
   "mimetype": "text/x-python",
   "name": "python",
   "nbconvert_exporter": "python",
   "pygments_lexer": "ipython3",
   "version": "3.6.5"
  }
 },
 "nbformat": 4,
 "nbformat_minor": 1
}
